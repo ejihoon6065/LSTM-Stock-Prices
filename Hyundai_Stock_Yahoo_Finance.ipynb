{
  "nbformat": 4,
  "nbformat_minor": 0,
  "metadata": {
    "colab": {
      "name": "Hyundai_Stock_Yahoo Finance.ipynb",
      "provenance": [],
      "authorship_tag": "ABX9TyNPLrfMAGLtyfgMLA3F/xCy",
      "include_colab_link": true
    },
    "kernelspec": {
      "name": "python3",
      "display_name": "Python 3"
    },
    "accelerator": "GPU"
  },
  "cells": [
    {
      "cell_type": "markdown",
      "metadata": {
        "id": "view-in-github",
        "colab_type": "text"
      },
      "source": [
        "<a href=\"https://colab.research.google.com/github/ejihoon6065/LSTM-Stock-Prices/blob/master/Hyundai_Stock_Yahoo_Finance.ipynb\" target=\"_parent\"><img src=\"https://colab.research.google.com/assets/colab-badge.svg\" alt=\"Open In Colab\"/></a>"
      ]
    },
    {
      "cell_type": "code",
      "metadata": {
        "id": "BFf7fVq0dXu0",
        "colab_type": "code",
        "colab": {}
      },
      "source": [
        "import pandas as pd\n",
        "import numpy as np\n",
        "from tensorflow.keras.models import Sequential\n",
        "from tensorflow.keras.layers import LSTM, Dropout, Dense, Activation\n",
        "from pandas.io.parsers import read_csv"
      ],
      "execution_count": 1,
      "outputs": []
    },
    {
      "cell_type": "markdown",
      "metadata": {
        "id": "4RLrCl7If47-",
        "colab_type": "text"
      },
      "source": [
        "출처 : https://dk-kang.tistory.com/entry/%EC%BC%80%EB%9D%BC%EC%8A%A4-%EC%A3%BC%EA%B0%80-%EC%98%88%EC%B8%A1-%ED%94%84%EB%A1%9C%EA%B7%B8%EB%9E%A8-%EB%A7%8C%EB%93%A4%EA%B8%B0"
      ]
    },
    {
      "cell_type": "markdown",
      "metadata": {
        "id": "oLqj6ubudjLu",
        "colab_type": "text"
      },
      "source": [
        "# 파일 업로드"
      ]
    },
    {
      "cell_type": "code",
      "metadata": {
        "id": "VsHhLE3BdfUG",
        "colab_type": "code",
        "colab": {
          "resources": {
            "http://localhost:8080/nbextensions/google.colab/files.js": {
              "data": "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",
              "ok": true,
              "headers": [
                [
                  "content-type",
                  "application/javascript"
                ]
              ],
              "status": 200,
              "status_text": ""
            }
          },
          "base_uri": "https://localhost:8080/",
          "height": 79
        },
        "outputId": "65dec802-2467-4a5b-dbc7-d11a734f543f"
      },
      "source": [
        "from google.colab import files\n",
        "uploaded = files.upload()"
      ],
      "execution_count": 2,
      "outputs": [
        {
          "output_type": "display_data",
          "data": {
            "text/html": [
              "\n",
              "     <input type=\"file\" id=\"files-73125deb-d81a-4b75-a1cf-b24986ff3404\" name=\"files[]\" multiple disabled\n",
              "        style=\"border:none\" />\n",
              "     <output id=\"result-73125deb-d81a-4b75-a1cf-b24986ff3404\">\n",
              "      Upload widget is only available when the cell has been executed in the\n",
              "      current browser session. Please rerun this cell to enable.\n",
              "      </output>\n",
              "      <script src=\"/nbextensions/google.colab/files.js\"></script> "
            ],
            "text/plain": [
              "<IPython.core.display.HTML object>"
            ]
          },
          "metadata": {
            "tags": []
          }
        },
        {
          "output_type": "stream",
          "text": [
            "Saving hyundai.csv to hyundai.csv\n"
          ],
          "name": "stdout"
        }
      ]
    },
    {
      "cell_type": "code",
      "metadata": {
        "id": "Qa9dOBRXdmN_",
        "colab_type": "code",
        "colab": {}
      },
      "source": [
        "data = pd.read_csv('hyundai.csv')"
      ],
      "execution_count": 3,
      "outputs": []
    },
    {
      "cell_type": "code",
      "metadata": {
        "id": "HMAuf4AxdtGP",
        "colab_type": "code",
        "colab": {
          "base_uri": "https://localhost:8080/",
          "height": 195
        },
        "outputId": "39541627-2fe1-47c8-e869-e230910e8975"
      },
      "source": [
        "data.head()"
      ],
      "execution_count": 4,
      "outputs": [
        {
          "output_type": "execute_result",
          "data": {
            "text/html": [
              "<div>\n",
              "<style scoped>\n",
              "    .dataframe tbody tr th:only-of-type {\n",
              "        vertical-align: middle;\n",
              "    }\n",
              "\n",
              "    .dataframe tbody tr th {\n",
              "        vertical-align: top;\n",
              "    }\n",
              "\n",
              "    .dataframe thead th {\n",
              "        text-align: right;\n",
              "    }\n",
              "</style>\n",
              "<table border=\"1\" class=\"dataframe\">\n",
              "  <thead>\n",
              "    <tr style=\"text-align: right;\">\n",
              "      <th></th>\n",
              "      <th>Date</th>\n",
              "      <th>Open</th>\n",
              "      <th>High</th>\n",
              "      <th>Low</th>\n",
              "      <th>Close</th>\n",
              "      <th>Adj Close</th>\n",
              "      <th>Volume</th>\n",
              "    </tr>\n",
              "  </thead>\n",
              "  <tbody>\n",
              "    <tr>\n",
              "      <th>0</th>\n",
              "      <td>2019-09-11</td>\n",
              "      <td>28.00</td>\n",
              "      <td>28.00</td>\n",
              "      <td>28.00</td>\n",
              "      <td>28.00</td>\n",
              "      <td>28.00</td>\n",
              "      <td>0</td>\n",
              "    </tr>\n",
              "    <tr>\n",
              "      <th>1</th>\n",
              "      <td>2019-09-12</td>\n",
              "      <td>31.75</td>\n",
              "      <td>31.75</td>\n",
              "      <td>31.75</td>\n",
              "      <td>31.75</td>\n",
              "      <td>31.75</td>\n",
              "      <td>300</td>\n",
              "    </tr>\n",
              "    <tr>\n",
              "      <th>2</th>\n",
              "      <td>2019-09-13</td>\n",
              "      <td>31.75</td>\n",
              "      <td>31.75</td>\n",
              "      <td>31.75</td>\n",
              "      <td>31.75</td>\n",
              "      <td>31.75</td>\n",
              "      <td>0</td>\n",
              "    </tr>\n",
              "    <tr>\n",
              "      <th>3</th>\n",
              "      <td>2019-09-16</td>\n",
              "      <td>31.00</td>\n",
              "      <td>31.00</td>\n",
              "      <td>28.01</td>\n",
              "      <td>28.01</td>\n",
              "      <td>28.01</td>\n",
              "      <td>600</td>\n",
              "    </tr>\n",
              "    <tr>\n",
              "      <th>4</th>\n",
              "      <td>2019-09-17</td>\n",
              "      <td>28.01</td>\n",
              "      <td>28.01</td>\n",
              "      <td>28.01</td>\n",
              "      <td>28.01</td>\n",
              "      <td>28.01</td>\n",
              "      <td>200</td>\n",
              "    </tr>\n",
              "  </tbody>\n",
              "</table>\n",
              "</div>"
            ],
            "text/plain": [
              "         Date   Open   High    Low  Close  Adj Close  Volume\n",
              "0  2019-09-11  28.00  28.00  28.00  28.00      28.00       0\n",
              "1  2019-09-12  31.75  31.75  31.75  31.75      31.75     300\n",
              "2  2019-09-13  31.75  31.75  31.75  31.75      31.75       0\n",
              "3  2019-09-16  31.00  31.00  28.01  28.01      28.01     600\n",
              "4  2019-09-17  28.01  28.01  28.01  28.01      28.01     200"
            ]
          },
          "metadata": {
            "tags": []
          },
          "execution_count": 4
        }
      ]
    },
    {
      "cell_type": "markdown",
      "metadata": {
        "id": "A56ntgKGdxIS",
        "colab_type": "text"
      },
      "source": [
        "# Null값 제거\n",
        "\n",
        "- 제거를 안 하면, model 훈련 중, 에러를 유발합니다."
      ]
    },
    {
      "cell_type": "code",
      "metadata": {
        "id": "kpxBi_uhdurd",
        "colab_type": "code",
        "colab": {}
      },
      "source": [
        "data = data.dropna(axis=0)"
      ],
      "execution_count": 5,
      "outputs": []
    },
    {
      "cell_type": "markdown",
      "metadata": {
        "id": "QDQzUWzAd59Y",
        "colab_type": "text"
      },
      "source": [
        "# 고가와 저가의 중간 값으로, mid price 구하기\n",
        "\n",
        "- 고가와 저가를 변수로 이용해도 되지만, 예제에서는 중간값으로 접근"
      ]
    },
    {
      "cell_type": "code",
      "metadata": {
        "id": "TODLrrOzd0j3",
        "colab_type": "code",
        "colab": {}
      },
      "source": [
        "high_price = data['High'].values\n",
        "low_price = data['Low'].values\n",
        "mid_price = (high_price + low_price) / 2"
      ],
      "execution_count": 6,
      "outputs": []
    },
    {
      "cell_type": "markdown",
      "metadata": {
        "id": "43pEku55eEU7",
        "colab_type": "text"
      },
      "source": [
        "### 50일씩 나누어 분리\n",
        "\n",
        "- 데이터들을 첫날부터, 50일씩 끊어서 저장\n",
        "\n",
        "예) [ [0~50일], [1~51일], [2~52일], [3~53일]....... ]\n",
        "\n",
        " \n",
        "\n",
        "(why? 50일 치 데이터를 가지고 51일째 되는 날의 주가를 예측하기 위해서)"
      ]
    },
    {
      "cell_type": "code",
      "metadata": {
        "id": "I62vZduQeA0p",
        "colab_type": "code",
        "colab": {}
      },
      "source": [
        "day_divided = 50\n",
        "day_length = day_divided + 1\n",
        "day_result = []\n",
        "for i in range(len(mid_price) - day_length):\n",
        "    day_result.append(mid_price[i: i + day_length])"
      ],
      "execution_count": 7,
      "outputs": []
    },
    {
      "cell_type": "markdown",
      "metadata": {
        "id": "3mGmnTEKeRCr",
        "colab_type": "text"
      },
      "source": [
        "### 분리된 데이터 확인"
      ]
    },
    {
      "cell_type": "code",
      "metadata": {
        "id": "R0prMwwlePDA",
        "colab_type": "code",
        "colab": {
          "base_uri": "https://localhost:8080/",
          "height": 454
        },
        "outputId": "8f06d7f1-b70e-477a-e7ba-ba3fe0db007a"
      },
      "source": [
        "print(\"전체 데이터 Length : \", len(data))\n",
        "print(\"나눈 데이터 Length : \", len(day_result))\n",
        "print(\"나눈 데이터 0번째 : \")\n",
        "print(day_result[0])\n",
        "print(day_result[1])"
      ],
      "execution_count": 8,
      "outputs": [
        {
          "output_type": "stream",
          "text": [
            "전체 데이터 Length :  253\n",
            "나눈 데이터 Length :  202\n",
            "나눈 데이터 0번째 : \n",
            "[28.        31.75      31.75      29.505     28.01      28.01\n",
            " 35.        35.        34.8999995 34.799999  34.799999  34.799999\n",
            " 34.799999  30.        31.        30.705     30.        31.389999\n",
            " 28.        28.        29.889999  29.889999  29.889999  29.889999\n",
            " 29.889999  32.5       31.7       30.9       30.9       30.9\n",
            " 34.400002  34.400002  31.4       31.95      32.        32.625\n",
            " 29.8000005 31.4       31.4       31.4       31.4       31.4\n",
            " 31.4       31.4       31.4       31.4       30.5       30.5\n",
            " 30.5       31.35      31.35     ]\n",
            "[31.75      31.75      29.505     28.01      28.01      35.\n",
            " 35.        34.8999995 34.799999  34.799999  34.799999  34.799999\n",
            " 30.        31.        30.705     30.        31.389999  28.\n",
            " 28.        29.889999  29.889999  29.889999  29.889999  29.889999\n",
            " 32.5       31.7       30.9       30.9       30.9       34.400002\n",
            " 34.400002  31.4       31.95      32.        32.625     29.8000005\n",
            " 31.4       31.4       31.4       31.4       31.4       31.4\n",
            " 31.4       31.4       31.4       30.5       30.5       30.5\n",
            " 31.35      31.35      31.35     ]\n"
          ],
          "name": "stdout"
        }
      ]
    },
    {
      "cell_type": "markdown",
      "metadata": {
        "id": "ppzsbo_PeXLh",
        "colab_type": "text"
      },
      "source": [
        "### 데이터 정규화(Normalized)\n",
        "\n",
        "- 50일씩 나누었던 데이터들을 첫날 기준으로 정규화 진행\n",
        "\n",
        "(첫날을 0으로 만들고, 나머지 날들은 그 비율로 나누어 정규화)"
      ]
    },
    {
      "cell_type": "code",
      "metadata": {
        "id": "jVMljODteTGi",
        "colab_type": "code",
        "colab": {}
      },
      "source": [
        "norm_result = []\n",
        "for section in day_result:\n",
        "    norm_section = [((float(p) / float(section[0])) - 1) for p in section]\n",
        "    norm_result.append(norm_section)\n",
        "day_result = np.array(norm_result)"
      ],
      "execution_count": 9,
      "outputs": []
    },
    {
      "cell_type": "markdown",
      "metadata": {
        "id": "XECzQWVNerpN",
        "colab_type": "text"
      },
      "source": [
        "### 분리된 데이터 정규화 결과 확인"
      ]
    },
    {
      "cell_type": "code",
      "metadata": {
        "id": "Csv1DCr-ed1L",
        "colab_type": "code",
        "colab": {
          "base_uri": "https://localhost:8080/",
          "height": 204
        },
        "outputId": "0487521c-20c3-4106-a102-b11f53880867"
      },
      "source": [
        "print(day_result[0])"
      ],
      "execution_count": 10,
      "outputs": [
        {
          "output_type": "stream",
          "text": [
            "[0.         0.13392857 0.13392857 0.05375    0.00035714 0.00035714\n",
            " 0.25       0.25       0.24642855 0.24285711 0.24285711 0.24285711\n",
            " 0.24285711 0.07142857 0.10714286 0.09660714 0.07142857 0.12107139\n",
            " 0.         0.         0.06749996 0.06749996 0.06749996 0.06749996\n",
            " 0.06749996 0.16071429 0.13214286 0.10357143 0.10357143 0.10357143\n",
            " 0.2285715  0.2285715  0.12142857 0.14107143 0.14285714 0.16517857\n",
            " 0.06428573 0.12142857 0.12142857 0.12142857 0.12142857 0.12142857\n",
            " 0.12142857 0.12142857 0.12142857 0.12142857 0.08928571 0.08928571\n",
            " 0.08928571 0.11964286 0.11964286]\n"
          ],
          "name": "stdout"
        }
      ]
    },
    {
      "cell_type": "markdown",
      "metadata": {
        "id": "y7qGnhooewMt",
        "colab_type": "text"
      },
      "source": [
        "### 데이터셋 정의하기\n",
        "\n",
        "- 전체 데이터중 학습 데이터(train_data)는 90%, 테스트 데이터(test_data)는 10% 로 나눔.\n",
        "\n",
        "데이터가 많지 않아 학습 데이터 비중을 높임.(검증 데이터 사용 x)"
      ]
    },
    {
      "cell_type": "code",
      "metadata": {
        "id": "Xr1coUo9et_S",
        "colab_type": "code",
        "colab": {}
      },
      "source": [
        "train_data_rate = 0.9\n",
        "boundary = round(day_result.shape[0] * train_data_rate)\n",
        "train_data = day_result[:boundary, :]\n",
        "test_data = day_result[boundary:, :]"
      ],
      "execution_count": 11,
      "outputs": []
    },
    {
      "cell_type": "markdown",
      "metadata": {
        "id": "atXUZYpJe3ty",
        "colab_type": "text"
      },
      "source": [
        "### 데이터셋 분리하기\n",
        "\n",
        "- 위에서 설정한 train data와 test data를 1차원으로 바꾸고, 각 데이터 0~49번째 가격정보는 x_data, 마지막 50번째는 y_data로 설정\n",
        "\n",
        "(why? 각 데이터 0~49번째 가격 정보를 가지고, 50번째 가격 정보를 예측하기 위해)"
      ]
    },
    {
      "cell_type": "code",
      "metadata": {
        "id": "Ap4O8mXLe1cx",
        "colab_type": "code",
        "colab": {}
      },
      "source": [
        "x_train = train_data[:, :-1]\n",
        "x_train = np.reshape(x_train, (x_train.shape[0], x_train.shape[1], 1))\n",
        "y_train = train_data[:, -1]\n",
        "\n",
        "x_test = test_data[:, :-1]\n",
        "x_test = np.reshape(x_test, (x_test.shape[0], x_test.shape[1], 1))\n",
        "y_test = test_data[:, -1]"
      ],
      "execution_count": 12,
      "outputs": []
    },
    {
      "cell_type": "markdown",
      "metadata": {
        "id": "ls3br9hlfAT8",
        "colab_type": "text"
      },
      "source": [
        "### 데이터셋 확인하기\n",
        "\n"
      ]
    },
    {
      "cell_type": "code",
      "metadata": {
        "id": "vDQluk26e99F",
        "colab_type": "code",
        "colab": {
          "base_uri": "https://localhost:8080/",
          "height": 38
        },
        "outputId": "754a26f7-01e7-437b-cb7c-53cca742a9df"
      },
      "source": [
        "x_train.shape, x_test.shape"
      ],
      "execution_count": 13,
      "outputs": [
        {
          "output_type": "execute_result",
          "data": {
            "text/plain": [
              "((182, 50, 1), (20, 50, 1))"
            ]
          },
          "metadata": {
            "tags": []
          },
          "execution_count": 13
        }
      ]
    },
    {
      "cell_type": "markdown",
      "metadata": {
        "id": "dI2xpkTKfGZT",
        "colab_type": "text"
      },
      "source": [
        "### 모델 만들기\n",
        "\n",
        "- LSTM, 순환 신경망(RNN) - 순서가 있는 데이터(소리, 언어, 날씨, 주가)처럼 시간의 변화에 함께 변화하면서 그 영향을 받을 때 사용.\n",
        "\n",
        "(첫 번째 인자 : 메모리 셀의 개수)\n",
        "\n",
        "(return_sequences=True : 모든 입력에 대해 출력을 내놓게 한다. return_sequences=False : time sep 마지막에서만 결과를 출력)\n",
        "\n",
        "(imput_shape : 입력 값)"
      ]
    },
    {
      "cell_type": "code",
      "metadata": {
        "id": "w0-2-cz8fCwe",
        "colab_type": "code",
        "colab": {}
      },
      "source": [
        "model = Sequential()\n",
        "model.add(LSTM(50, return_sequences=True, input_shape=(50, 1)))\n",
        "model.add(LSTM(64, return_sequences=False))\n",
        "model.add(Dense(1, activation='relu'))\n",
        "model.compile(loss='mse', optimizer='sgd')"
      ],
      "execution_count": 14,
      "outputs": []
    },
    {
      "cell_type": "markdown",
      "metadata": {
        "id": "CipAlIPzfQ4N",
        "colab_type": "text"
      },
      "source": [
        "# 모델 확인하기"
      ]
    },
    {
      "cell_type": "code",
      "metadata": {
        "id": "MDnWeV7FfL-M",
        "colab_type": "code",
        "colab": {
          "base_uri": "https://localhost:8080/",
          "height": 308
        },
        "outputId": "7e142fca-4125-4783-d141-e74f19f91c1b"
      },
      "source": [
        "model.summary()"
      ],
      "execution_count": 15,
      "outputs": [
        {
          "output_type": "stream",
          "text": [
            "Model: \"sequential\"\n",
            "_________________________________________________________________\n",
            "Layer (type)                 Output Shape              Param #   \n",
            "=================================================================\n",
            "lstm (LSTM)                  (None, 50, 50)            10400     \n",
            "_________________________________________________________________\n",
            "lstm_1 (LSTM)                (None, 64)                29440     \n",
            "_________________________________________________________________\n",
            "dense (Dense)                (None, 1)                 65        \n",
            "=================================================================\n",
            "Total params: 39,905\n",
            "Trainable params: 39,905\n",
            "Non-trainable params: 0\n",
            "_________________________________________________________________\n"
          ],
          "name": "stdout"
        }
      ]
    },
    {
      "cell_type": "markdown",
      "metadata": {
        "id": "WnhZRaHEfYl9",
        "colab_type": "text"
      },
      "source": [
        "# 모델 훈련하기"
      ]
    },
    {
      "cell_type": "code",
      "metadata": {
        "id": "QztOzCqafSoG",
        "colab_type": "code",
        "colab": {
          "base_uri": "https://localhost:8080/",
          "height": 662
        },
        "outputId": "c3484dc4-5757-4f57-d3ed-65374540c264"
      },
      "source": [
        "model.fit(x_train, y_train,\n",
        "    validation_data=(x_test, y_test),\n",
        "    batch_size=10,\n",
        "    epochs=15)"
      ],
      "execution_count": 16,
      "outputs": [
        {
          "output_type": "stream",
          "text": [
            "Epoch 1/15\n",
            "19/19 [==============================] - 1s 34ms/step - loss: 0.0400 - val_loss: 0.1944\n",
            "Epoch 2/15\n",
            "19/19 [==============================] - 0s 6ms/step - loss: 0.0395 - val_loss: 0.1759\n",
            "Epoch 3/15\n",
            "19/19 [==============================] - 0s 6ms/step - loss: 0.0388 - val_loss: 0.1775\n",
            "Epoch 4/15\n",
            "19/19 [==============================] - 0s 6ms/step - loss: 0.0384 - val_loss: 0.1779\n",
            "Epoch 5/15\n",
            "19/19 [==============================] - 0s 6ms/step - loss: 0.0381 - val_loss: 0.1780\n",
            "Epoch 6/15\n",
            "19/19 [==============================] - 0s 6ms/step - loss: 0.0379 - val_loss: 0.1641\n",
            "Epoch 7/15\n",
            "19/19 [==============================] - 0s 6ms/step - loss: 0.0374 - val_loss: 0.1485\n",
            "Epoch 8/15\n",
            "19/19 [==============================] - 0s 6ms/step - loss: 0.0371 - val_loss: 0.1466\n",
            "Epoch 9/15\n",
            "19/19 [==============================] - 0s 6ms/step - loss: 0.0367 - val_loss: 0.1394\n",
            "Epoch 10/15\n",
            "19/19 [==============================] - 0s 6ms/step - loss: 0.0365 - val_loss: 0.1359\n",
            "Epoch 11/15\n",
            "19/19 [==============================] - 0s 6ms/step - loss: 0.0362 - val_loss: 0.1124\n",
            "Epoch 12/15\n",
            "19/19 [==============================] - 0s 7ms/step - loss: 0.0360 - val_loss: 0.1277\n",
            "Epoch 13/15\n",
            "19/19 [==============================] - 0s 6ms/step - loss: 0.0354 - val_loss: 0.1195\n",
            "Epoch 14/15\n",
            "19/19 [==============================] - 0s 6ms/step - loss: 0.0354 - val_loss: 0.1307\n",
            "Epoch 15/15\n",
            "19/19 [==============================] - 0s 7ms/step - loss: 0.0352 - val_loss: 0.1240\n"
          ],
          "name": "stdout"
        },
        {
          "output_type": "execute_result",
          "data": {
            "text/plain": [
              "<tensorflow.python.keras.callbacks.History at 0x7f4d00235e80>"
            ]
          },
          "metadata": {
            "tags": []
          },
          "execution_count": 16
        }
      ]
    },
    {
      "cell_type": "markdown",
      "metadata": {
        "id": "V74NHglnfdI4",
        "colab_type": "text"
      },
      "source": [
        "# 모델 예측하기"
      ]
    },
    {
      "cell_type": "code",
      "metadata": {
        "id": "R8sJHBFUfa-A",
        "colab_type": "code",
        "colab": {}
      },
      "source": [
        "pred = model.predict(x_test)"
      ],
      "execution_count": 17,
      "outputs": []
    },
    {
      "cell_type": "markdown",
      "metadata": {
        "id": "Pw6bT2gpfgRk",
        "colab_type": "text"
      },
      "source": [
        "# 예측값과 실제값 비교(with plot)"
      ]
    },
    {
      "cell_type": "code",
      "metadata": {
        "id": "LNpsGEJwffjH",
        "colab_type": "code",
        "colab": {
          "base_uri": "https://localhost:8080/",
          "height": 383
        },
        "outputId": "e23ab4cc-8a42-420a-cbc9-6be636a1cd5c"
      },
      "source": [
        "import matplotlib.pyplot as plt\n",
        "\n",
        "plot_figure = plt.figure(figsize=(30, 10))\n",
        "plot_rst = plot_figure.add_subplot(111)\n",
        "plot_rst.plot(y_test, label='Real')\n",
        "plot_rst.plot(pred, label='Predict')\n",
        "plot_rst.legend()\n",
        "plt.show()"
      ],
      "execution_count": 18,
      "outputs": [
        {
          "output_type": "display_data",
          "data": {
            "image/png": "[encoded data removed]",
            "text/plain": [
              "<Figure size 2160x720 with 1 Axes>"
            ]
          },
          "metadata": {
            "tags": [],
            "needs_background": "light"
          }
        }
      ]
    },
    {
      "cell_type": "markdown",
      "metadata": {
        "id": "c0M89K8ufnfI",
        "colab_type": "text"
      },
      "source": [
        "얼추 비슷해 보이지만, 이것을 가지고 주가 예측을 하기에는 리스크가 크다.\n",
        "\n",
        "아무래도 주가에 영향을 주는 변수는 많이 있기 때문이다. 주식에 관심 있으신 분들은 자신만의 전략을 만들고,\n",
        "\n",
        "여러 정보를 변수화를 하여 모델을 만들어야 할 것이다.\n",
        "\n",
        " \n",
        "\n",
        "물론 모든 게 참고 사항이며, 주식은 남들이 주는 고급 정보로 조심스럽게 접근하는 것이 최고인 듯싶다ㅜㅜ!"
      ]
    }
  ]
}